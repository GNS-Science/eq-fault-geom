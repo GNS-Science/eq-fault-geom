{
 "cells": [
  {
   "cell_type": "markdown",
   "metadata": {},
   "source": [
    "# Hikurangi Ruptures Demo using ipyvolume\n",
    "\n",
    "Use the **pyvolume** library to produce an interactive 3D visualisation of Hikurangi w Ruptures"
   ]
  },
  {
   "cell_type": "code",
   "execution_count": 12,
   "metadata": {},
   "outputs": [],
   "source": [
    "import ipyvolume as ipv\n",
    "# import ipyvolume\n",
    "import requests\n",
    "import numpy as np"
   ]
  },
  {
   "cell_type": "code",
   "execution_count": 13,
   "metadata": {},
   "outputs": [],
   "source": [
    "!pip install geopandas >/dev/null\n",
    "!pip install nest_asyncio > /dev/null\n",
    "import geopandas as gpd"
   ]
  },
  {
   "cell_type": "code",
   "execution_count": 14,
   "metadata": {},
   "outputs": [],
   "source": [
    "#for data animations\n",
    "import asyncio\n",
    "import nest_asyncio\n",
    "nest_asyncio.apply()"
   ]
  },
  {
   "cell_type": "code",
   "execution_count": 15,
   "metadata": {},
   "outputs": [],
   "source": [
    "# tiles  - choose your resolution\n",
    "url30 = \"https://github.com/GNS-Science/eq-fault-geom/blob/chris_ruptures_101/data/subduction/tile_outlines_30.zip?raw=true\"\n",
    "url10 = \"https://github.com/GNS-Science/eq-fault-geom/blob/chris_ruptures_101/data/subduction/tile_outlines.zip?raw=true\"\n",
    "tile_outlines_nztm = gpd.read_file(url10).to_crs(epsg=2193)"
   ]
  },
  {
   "cell_type": "markdown",
   "metadata": {},
   "source": [
    "## Build the tri-polygon coords and indices need for ipyvolume"
   ]
  },
  {
   "cell_type": "code",
   "execution_count": 16,
   "metadata": {},
   "outputs": [],
   "source": [
    "def quadPolyToTriPoly(coords):\n",
    "    assert len(coords) == 5\n",
    "    x = [g[0] for g in coords[:-1]]\n",
    "    y = [g[1] for g in coords[:-1]]\n",
    "    z = [g[2] for g in coords[:-1]]\n",
    "    return x, y, z\n",
    "\n",
    "# build the fault section tile coords lists \n",
    "x,y,z = [], [], []\n",
    "for bdry in tile_outlines_nztm.geometry.boundary:\n",
    "    x0,y0,z0 = quadPolyToTriPoly(list(bdry.coords))\n",
    "    x.extend(x0)\n",
    "    y.extend(y0)\n",
    "    z.extend(z0)"
   ]
  },
  {
   "cell_type": "code",
   "execution_count": 17,
   "metadata": {},
   "outputs": [],
   "source": [
    "# add the triangle indices to the dataframe\n",
    "def calculateFaceIdices(geometry):\n",
    "    #using this trick https://stackoverflow.com/a/18317089 to get the index\n",
    "    idx = int(geometry.name) *4\n",
    "    faces = [[idx, idx+1, idx+2], [idx, idx+2, idx+3]]\n",
    "    return faces\n",
    "    \n",
    "tile_outlines_nztm['triangles'] = tile_outlines_nztm['geometry'].to_frame().apply(calculateFaceIdices, axis=1)"
   ]
  },
  {
   "cell_type": "markdown",
   "metadata": {},
   "source": [
    "## ruptures"
   ]
  },
  {
   "cell_type": "code",
   "execution_count": 18,
   "metadata": {},
   "outputs": [],
   "source": [
    "from io import BytesIO\n",
    "import codecs\n",
    "import requests\n",
    "module_uri = \"https://github.com/GNS-Science/nshm-nz-opensha/raw/python_ruptures_101/python/src/fault_section.py\"\n",
    "url = requests.get(module_uri, allow_redirects=True)\n",
    "bytesio_object = BytesIO(url.content)\n",
    "# Write the stuff\n",
    "with open(\"fault_section.py\", \"wb\") as f:\n",
    "    f.write(bytesio_object.getbuffer())\n",
    "\n",
    "import fault_section\n",
    "from fault_section import FaultSubSectionFactory, SheetFault"
   ]
  },
  {
   "cell_type": "code",
   "execution_count": 19,
   "metadata": {},
   "outputs": [],
   "source": [
    "# url = \"https://github.com/GNS-Science/nshm-nz-opensha/blob/python_ruptures_101/data/subduction/tile_parameters_30.csv?raw=true\"\n",
    "url30 = \"https://github.com/GNS-Science/eq-fault-geom/blob/chris_ruptures_101/data/subduction/tile_parameters_30.csv?raw=true\"\n",
    "url10 = \"https://github.com/GNS-Science/eq-fault-geom/blob/chris_ruptures_101/data/subduction/tile_parameters.csv?raw=true\"\n",
    "tile_params = BytesIO(requests.get(url10).content)\n",
    "StreamReader = codecs.getreader('utf-8')\n",
    "wrapper_file = StreamReader(tile_params)\n",
    "\n",
    "factory = FaultSubSectionFactory()\n",
    "sf = SheetFault(\"Hikurangi\")\\\n",
    "\t\t.build_surface_from_csv(factory, wrapper_file)"
   ]
  },
  {
   "cell_type": "code",
   "execution_count": 20,
   "metadata": {},
   "outputs": [],
   "source": [
    "# Variations on 'nearly rectangular' rupture sets ..\n",
    "#\n",
    "# scale: determines ratio of rectangle to original tile size (10km*10km).\n",
    "# aspect: ratio of 'along-strike' tiles to 'down-dip' tiles per rectangle.\n",
    "# interhttps://hub.gke.mybinder.org/user/chrisbc-379a8fb-0a027b8c1b4eff1-75eu0sje/notebooks/Hikurangi%20Rupture%20Demo.ipynb#val: how many tiles to advance both col-wise and row-wise\n",
    "# min_fill_factor: how many tiles are needed to make up a valid 'rectangle'\n",
    "#\n",
    "spec0 = dict(scale=3, aspect=2)\n",
    "spec1 = dict(scale=3, aspect=4, interval=2, min_fill_factor=0.5) #default min_fill_factor is 0.75\n",
    "spec2 = dict(scale=8, aspect=2, interval=4, min_fill_factor=0.55)\n",
    "spec3 = dict(scale=16, aspect=1, interval=4, min_fill_factor=0.33)\n",
    "spec4 = dict(scale=16, aspect=2, interval=4, min_fill_factor=0.33)\n",
    "spec5 = dict(scale=3, aspect=12, interval=2, min_fill_factor=0.55)\n",
    "\n",
    "#select the 'spec' to animate here...\n",
    "selected_spec = spec1\n",
    "\n",
    "#now build the rupture set \n",
    "ruptures = [rupt for rupt in sf.get_rupture_ids(selected_spec)]"
   ]
  },
  {
   "cell_type": "markdown",
   "metadata": {},
   "source": [
    "## visualisation"
   ]
  },
  {
   "cell_type": "code",
   "execution_count": 21,
   "metadata": {},
   "outputs": [
    {
     "data": {
      "application/vnd.jupyter.widget-view+json": {
       "model_id": "e8df642792d04e86ae4f6d4d275557ca",
       "version_major": 2,
       "version_minor": 0
      },
      "text/plain": [
       "VBox(children=(Figure(camera=PerspectiveCamera(fov=45.0, position=(0.0, 0.0, 2.0), quaternion=(0.0, 0.0, 0.0, …"
      ]
     },
     "metadata": {},
     "output_type": "display_data"
    }
   ],
   "source": [
    "#draw the tetrahedron\n",
    "fig = ipv.figure()\n",
    "all_tris = np.array(tile_outlines_nztm['triangles'].to_list(), dtype='uint32')\n",
    "mesh = ipv.plot_trisurf(x=x, y=y, z=z, triangles=all_tris, color='lightblue')\n",
    "faces = ipv.plot_trisurf(x, y, z, triangles=[[]], color='red')\n",
    "ipv.ylim( min(y), max(y))\n",
    "ipv.xlim( min(x), max(x))\n",
    "ipv.zlim(-250e3, 0)\n",
    "ipv.show()"
   ]
  },
  {
   "cell_type": "code",
   "execution_count": null,
   "metadata": {},
   "outputs": [],
   "source": [
    "# use async co-routines to animate the rupture data \n",
    "async def new_faces(n):\n",
    "    #apply the new filter\n",
    "    rupt_tris = tile_outlines_nztm[tile_outlines_nztm[\"FID\"].isin(ruptures[n])]\n",
    "    #convert series to np.array and update the faces\n",
    "    faces.triangles = np.array(rupt_tris['triangles'].to_list(), dtype='uint32')   \n",
    "\n",
    "for n in range(len(ruptures)):\n",
    "    task = asyncio.create_task(new_faces(n))\n",
    "    await task\n",
    "    await asyncio.sleep(0.2)\n"
   ]
  },
  {
   "cell_type": "code",
   "execution_count": null,
   "metadata": {},
   "outputs": [],
   "source": []
  }
 ],
 "metadata": {
  "kernelspec": {
   "display_name": "Python 3",
   "language": "python",
   "name": "python3"
  },
  "language_info": {
   "codemirror_mode": {
    "name": "ipython",
    "version": 3
   },
   "file_extension": ".py",
   "mimetype": "text/x-python",
   "name": "python",
   "nbconvert_exporter": "python",
   "pygments_lexer": "ipython3",
   "version": "3.7.8"
  }
 },
 "nbformat": 4,
 "nbformat_minor": 4
}